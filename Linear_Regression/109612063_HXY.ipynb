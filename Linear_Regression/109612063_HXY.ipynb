{
 "cells": [
  {
   "cell_type": "code",
   "execution_count": 1,
   "id": "17869c9e",
   "metadata": {},
   "outputs": [],
   "source": [
    "import os\n",
    "import numpy as np\n",
    "import csv\n",
    "import random\n",
    "import matplotlib.pyplot as plt\n",
    "import math"
   ]
  },
  {
   "cell_type": "markdown",
   "id": "b0871b3f",
   "metadata": {},
   "source": [
    "# Data前處理"
   ]
  },
  {
   "cell_type": "code",
   "execution_count": 2,
   "id": "0714d048",
   "metadata": {},
   "outputs": [],
   "source": [
    "label = []\n",
    "with open('./dataset/data_T.csv', newline='') as data_t:\n",
    "    Data_t= csv.reader(data_t)\n",
    "    for i in Data_t:\n",
    "        label.append(i[1])\n",
    "label_t = label[1:]\n",
    "label = []\n",
    "for i in label_t:\n",
    "    i = float(i)\n",
    "    label.append(i)"
   ]
  },
  {
   "cell_type": "code",
   "execution_count": 3,
   "id": "b5df537a",
   "metadata": {},
   "outputs": [],
   "source": [
    "feature = []\n",
    "with open('./dataset/data_X.csv', newline='') as data_x:\n",
    "    Data_x= csv.reader(data_x)\n",
    "    for i in Data_x:\n",
    "        feature.append(i[1:])\n",
    "feature=feature[1:]"
   ]
  },
  {
   "cell_type": "code",
   "execution_count": 4,
   "id": "c7bef0dd",
   "metadata": {},
   "outputs": [],
   "source": [
    "#normalize : (now - min) / (max - min)\n",
    "def normalize(data):\n",
    "    result = []\n",
    "    data = np.array(data)\n",
    "    data = data.T\n",
    "    for i in range(len(data)):  #0~7 \n",
    "        temp = []\n",
    "        for j in range(len(data[0])): #0~500 \n",
    "            max_value = max(data[i])\n",
    "            min_value = min(data[i])\n",
    "            now = data[i][j]\n",
    "            n = (float(now) - float(min_value))/(float(max_value)-float(min_value))\n",
    "            temp.append(n)\n",
    "        result.append(temp)\n",
    "    result = np.array(result)\n",
    "    result = result.T\n",
    "    return result "
   ]
  },
  {
   "cell_type": "code",
   "execution_count": 5,
   "id": "e44751fd",
   "metadata": {},
   "outputs": [],
   "source": [
    "# error function: E = (1/2N) * sum (y^ - label)^2\n",
    "def evaluate(weight,x,y,N):\n",
    "    y_pred = np.dot(x,weight)\n",
    "    a = (y_pred-y)\n",
    "    aa = np.dot(a,a.T)\n",
    "    E = aa.sum()/(2*N)\n",
    "    #E = math.sqrt(E)\n",
    "    return E"
   ]
  },
  {
   "cell_type": "code",
   "execution_count": 6,
   "id": "695cd46d",
   "metadata": {},
   "outputs": [],
   "source": [
    "feature = normalize(feature)"
   ]
  },
  {
   "cell_type": "code",
   "execution_count": 7,
   "id": "955be7d6",
   "metadata": {},
   "outputs": [],
   "source": [
    "# Train Test Split\n",
    "x_train = feature[0:400]\n",
    "y_train = label[0:400]\n",
    "x_test = feature[400:500]\n",
    "y_test = label[400:500]"
   ]
  },
  {
   "cell_type": "markdown",
   "id": "b74af595",
   "metadata": {},
   "source": [
    "# 1.最小平方法 "
   ]
  },
  {
   "cell_type": "code",
   "execution_count": 8,
   "id": "9b049045",
   "metadata": {},
   "outputs": [
    {
     "name": "stdout",
     "output_type": "stream",
     "text": [
      "[ 0.29230842  0.0137733  -0.05902343  0.05914578  0.21701888  0.8953103\n",
      " -0.00856216]\n"
     ]
    }
   ],
   "source": [
    "# weight = (feature.T * feature)^-1 * (feature.T) * label\n",
    "tt = np.dot(x_train.T,x_train)\n",
    "tt_inv = np.linalg.inv(tt)\n",
    "temp=np.dot(tt_inv,x_train.T)\n",
    "wei=np.dot(temp,y_train)\n",
    "print(wei)"
   ]
  },
  {
   "cell_type": "code",
   "execution_count": 39,
   "id": "05b80909",
   "metadata": {},
   "outputs": [
    {
     "name": "stdout",
     "output_type": "stream",
     "text": [
      "Train data error（最小平方法）:  0.005769616614109674\n",
      "Test data error（最小平方法）:  0.006357443043549527\n"
     ]
    }
   ],
   "source": [
    "E_test_1 = evaluate(weight = wei,x= x_test,y = y_test,N = 100)\n",
    "E_train_1 = evaluate(weight = wei,x = x_train,y = y_train,N = 400)\n",
    "print('Train data error（最小平方法）: ',E_train_1)\n",
    "print('Test data error（最小平方法）: ',E_test_1)"
   ]
  },
  {
   "cell_type": "markdown",
   "id": "829acb79",
   "metadata": {},
   "source": [
    "# 2. Gradient Descent (M=1)"
   ]
  },
  {
   "cell_type": "code",
   "execution_count": 40,
   "id": "e05d060f",
   "metadata": {},
   "outputs": [],
   "source": [
    "#隨機w（w0）\n",
    "w0 = []\n",
    "random.seed(1234)#固定這組隨機的w0，以嘗試變數\n",
    "for i in range(7):\n",
    "    w0.append(random.random())"
   ]
  },
  {
   "cell_type": "code",
   "execution_count": 41,
   "id": "432a01a0",
   "metadata": {},
   "outputs": [],
   "source": [
    "#變數\n",
    "epoch = 5000\n",
    "lr = 0.00002\n",
    "E_train_2 = []"
   ]
  },
  {
   "cell_type": "code",
   "execution_count": 42,
   "id": "753d39d5",
   "metadata": {},
   "outputs": [],
   "source": [
    "def training(w0,epoch,lr):\n",
    "    weight = w0\n",
    "    for i in range(epoch):\n",
    "        temp1 = (np.dot(weight,x_train.T) - y_train)\n",
    "        temp2 = np.dot(x_train.T,temp1)\n",
    "        dE = temp2.sum() / 400\n",
    "        weight = weight - (lr * dE)\n",
    "        \n",
    "        temp3 = evaluate(weight,x_train,y_train,N = 400)\n",
    "        E_train_2.append(temp3)\n",
    "    \n",
    "    \n",
    "    plt.plot(range(epoch), E_train_2)#list\n",
    "    plt.title('Training Loss')\n",
    "    plt.xlabel('Epoch')\n",
    "    plt.ylabel('RMS')\n",
    "    plt.show()\n",
    "    return weight"
   ]
  },
  {
   "cell_type": "code",
   "execution_count": 43,
   "id": "6cdb2503",
   "metadata": {},
   "outputs": [
    {
     "data": {
      "image/png": "[encoded data removed]",
      "text/plain": [
       "<Figure size 432x288 with 1 Axes>"
      ]
     },
     "metadata": {
      "needs_background": "light"
     },
     "output_type": "display_data"
    },
    {
     "name": "stdout",
     "output_type": "stream",
     "text": [
      "Train data error（Gradient Descent）:  0.021213591981805103\n"
     ]
    }
   ],
   "source": [
    "weight = training(w0,epoch,lr)\n",
    "print('Train data error（Gradient Descent）: ',E_train_2[-1]) #-1：最後一個"
   ]
  },
  {
   "cell_type": "code",
   "execution_count": 44,
   "id": "4b5a846a",
   "metadata": {},
   "outputs": [
    {
     "name": "stdout",
     "output_type": "stream",
     "text": [
      "Test data error（Gradient Descent）:  0.019095898928681337\n"
     ]
    }
   ],
   "source": [
    "E_test_2 = evaluate(weight,x_test,y_test,N = 100)\n",
    "print('Test data error（Gradient Descent）: ',E_test_2)"
   ]
  },
  {
   "cell_type": "code",
   "execution_count": null,
   "id": "37002ea9",
   "metadata": {},
   "outputs": [],
   "source": []
  }
 ],
 "metadata": {
  "kernelspec": {
   "display_name": "Python 3",
   "language": "python",
   "name": "python3"
  },
  "language_info": {
   "codemirror_mode": {
    "name": "ipython",
    "version": 3
   },
   "file_extension": ".py",
   "mimetype": "text/x-python",
   "name": "python",
   "nbconvert_exporter": "python",
   "pygments_lexer": "ipython3",
   "version": "3.8.8"
  }
 },
 "nbformat": 4,
 "nbformat_minor": 5
}
